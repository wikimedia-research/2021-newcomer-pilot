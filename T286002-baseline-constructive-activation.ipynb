{
 "cells": [
  {
   "cell_type": "markdown",
   "id": "aef48846",
   "metadata": {},
   "source": [
    "# Baseline Constructive Activation\n",
    "\n",
    "We want to be able to compare the donor accounts against reasonable baselines of constructive edit activation. This notebook estimates that for the Spanish and Portuguese Wikipedias using an adapted version of the data gathering pipeline for NEWTEA revisited. ([T270786](https://phabricator.wikimedia.org/T270786))\n",
    "\n",
    "We gather registrations in May and June 2021, because the deployment to Spanish Wikipedia happened in late April of the same year. For those registrations, we gather data on activation and retention, both counting all edits and only constructive edits."
   ]
  },
  {
   "cell_type": "code",
   "execution_count": 1,
   "id": "7a26b897",
   "metadata": {},
   "outputs": [],
   "source": [
    "import json\n",
    "import datetime as dt\n",
    "\n",
    "from collections import defaultdict\n",
    "\n",
    "import numpy as np\n",
    "import pandas as pd\n",
    "\n",
    "from wmfdata import hive, spark, mariadb"
   ]
  },
  {
   "cell_type": "code",
   "execution_count": 2,
   "id": "bfd052fc",
   "metadata": {},
   "outputs": [],
   "source": [
    "## Start and end timestamps of data gathering, per notes above:\n",
    "exp_start_ts = dt.datetime(2021, 5, 1, 0, 0, 0)\n",
    "exp_end_ts = dt.datetime(2021, 7, 1, 0, 0, 0)\n",
    "\n",
    "## Ordered list of wikis that we'll be gathering data for\n",
    "## Note that we're excluding euwiki due to their small number of registrations\n",
    "wikis = ['ptwiki', 'eswiki']\n",
    "\n",
    "## The MediaWiki history snapshot we use for our data gathering\n",
    "mwh_snapshot = '2021-07'\n",
    "\n",
    "## Lists of known users to ignore (e.g. test accounts and experienced users)\n",
    "known_users = defaultdict(set)\n",
    "known_users['cswiki'].update([14, 127629, 303170, 342147, 349875, 44133, 100304, 307410, 439792, 444907,\n",
    "                              454862, 456272, 454003, 454846, 92295, 387915, 398470, 416764, 44751, 132801,\n",
    "                              137787, 138342, 268033, 275298, 317739, 320225, 328302, 339583, 341191,\n",
    "                              357559, 392634, 398626, 404765, 420805, 429109, 443890, 448195, 448438,\n",
    "                              453220, 453628, 453645, 453662, 453663, 453664, 440694, 427497, 272273,\n",
    "                              458025, 458487, 458049, 59563, 118067, 188859, 191908, 314640, 390445,\n",
    "                              451069, 459434, 460802, 460885, 79895, 448735, 453176, 467557, 467745,\n",
    "                              468502, 468583, 468603, 474052, 475184, 475185, 475187, 475188, 294174,\n",
    "                              402906, 298011])\n",
    "\n",
    "known_users['kowiki'].update([303170, 342147, 349875, 189097, 362732, 384066, 416362, 38759, 495265,\n",
    "                              515553, 537326, 566963, 567409, 416360, 414929, 470932, 472019, 485036,\n",
    "                              532123, 558423, 571587, 575553, 576758, 360703, 561281, 595100, 595105,\n",
    "                              595610, 596025, 596651, 596652, 596653, 596654, 596655, 596993, 942,\n",
    "                              13810, 536529])\n",
    "\n",
    "known_users['viwiki'].update([451842, 628512, 628513, 680081, 680083, 680084, 680085, 680086, 355424,\n",
    "                              387563, 443216, 682713, 659235, 700934, 705406, 707272, 707303, 707681, 585762])\n",
    "\n",
    "known_users['arwiki'].update([237660, 272774, 775023, 1175449, 1186377, 1506091, 1515147, 1538902,\n",
    "                              1568858, 1681813, 1683215, 1699418, 1699419, 1699425, 1740419, 1759328, 1763990])\n",
    "\n",
    "## Grab the user IDs of known test accounts so they can be added to the exclusion list\n",
    "\n",
    "def get_known_users(wiki):\n",
    "    '''\n",
    "    Get user IDs of known test accounts and return a set of them.\n",
    "    '''\n",
    "    \n",
    "    username_patterns = [\"MMiller\", \"Zilant\", \"Roan\", \"KHarlan\", \"MWang\", \"SBtest\",\n",
    "                         \"Cloud\", \"Rho2019\", \"Test\"]\n",
    "\n",
    "    known_user_query = '''\n",
    "SELECT user_id\n",
    "FROM user\n",
    "WHERE user_name LIKE \"{name_pattern}%\"\n",
    "    '''\n",
    "    \n",
    "    known_users = set()\n",
    "    \n",
    "    for u_pattern in username_patterns:\n",
    "        new_known = mariadb.run(known_user_query.format(\n",
    "            name_pattern = u_pattern), wiki)\n",
    "        known_users = known_users | set(new_known['user_id'])\n",
    "\n",
    "    return(known_users)\n",
    "        \n",
    "for wiki in wikis:\n",
    "    known_users[wiki] = known_users[wiki] | get_known_users(wiki)"
   ]
  },
  {
   "cell_type": "markdown",
   "id": "cad3097f",
   "metadata": {},
   "source": [
    "## Helper Functions"
   ]
  },
  {
   "cell_type": "code",
   "execution_count": 3,
   "id": "81dea447",
   "metadata": {},
   "outputs": [],
   "source": [
    "def make_known_users_sql(kd, wiki_column, user_column):\n",
    "    '''\n",
    "    Based on the dictionary `kd` mapping wiki names to sets of user IDs of known users,\n",
    "    create a SQL expression to exclude users based on the name of the wiki matching `wiki_column`\n",
    "    and the user ID not matching `user_column`\n",
    "    '''\n",
    "    \n",
    "    wiki_exp = '''({w_column} = '{wiki}' AND {u_column} NOT IN ({id_list}))'''\n",
    "    \n",
    "    expressions = list()\n",
    "\n",
    "    ## Iteratively build the expression for each wiki\n",
    "    for wiki_name, wiki_users in kd.items():\n",
    "        expressions.append(wiki_exp.format(\n",
    "            w_column = wiki_column,\n",
    "            wiki = wiki_name,\n",
    "            u_column = user_column,\n",
    "            id_list = ','.join([str(u) for u in wiki_users])\n",
    "        ))\n",
    "    \n",
    "    ## We then join all the expressions with an OR, and we're done.\n",
    "    return(' OR '.join(expressions))\n",
    "    "
   ]
  },
  {
   "cell_type": "code",
   "execution_count": 4,
   "id": "3e2281f1",
   "metadata": {},
   "outputs": [],
   "source": [
    "def make_when_then(wiki_list, wiki_column):\n",
    "    '''\n",
    "    Take the ordered list of wiki names and turn it into a string\n",
    "    of \"WHEN wiki_column = '{wiki}' THEN '{k}'\" where `k` is the index\n",
    "    of the wiki in the list, so it can be used for ordering results.\n",
    "    '''\n",
    "\n",
    "    whens = list()\n",
    "    \n",
    "    for k, wiki in enumerate(wiki_list):\n",
    "        whens.append(f'WHEN {wiki_column} = \"{wiki}\" THEN \"{k:02}\"')\n",
    "    \n",
    "    ## Join them with line breaks to create the list\n",
    "    return('\\n'.join(whens))\n"
   ]
  },
  {
   "cell_type": "markdown",
   "id": "9cf24156",
   "metadata": {},
   "source": [
    "## User Registrations\n",
    "\n",
    "We get user registrations for users registered between the start and the end of the experiment, on all wikis, with known test accounts excluded."
   ]
  },
  {
   "cell_type": "code",
   "execution_count": 5,
   "id": "7041e2f1",
   "metadata": {},
   "outputs": [],
   "source": [
    "## Query to get user registrations on the given wikis for the given dates, ignoring\n",
    "## known users.\n",
    "\n",
    "user_registrations_query = '''\n",
    "SELECT wiki_db, user_id, user_registration_timestamp\n",
    "FROM wmf.mediawiki_user_history\n",
    "WHERE snapshot = \"{snapshot}\"\n",
    "AND caused_by_event_type = \"create\" -- account registration\n",
    "AND created_by_self = true -- no auto-created accounts\n",
    "AND SIZE(is_bot_by) = 0 -- no bots\n",
    "AND SIZE(is_bot_by_historical) = 0 -- definitely no bots\n",
    "AND wiki_db IN ({wiki_list})\n",
    "AND ({known_user_id_expression})\n",
    "AND user_registration_timestamp > \"{exp_start_timestamp}\"\n",
    "AND user_registration_timestamp < \"{exp_end_timestamp}\"\n",
    "'''"
   ]
  },
  {
   "cell_type": "code",
   "execution_count": 6,
   "id": "f20fc487",
   "metadata": {},
   "outputs": [
    {
     "name": "stderr",
     "output_type": "stream",
     "text": [
      "PySpark executors will use /usr/lib/anaconda-wmf/bin/python3.\n"
     ]
    }
   ],
   "source": [
    "## NOTE: if you use growth.utils.hive_format to format the timestamps, then you miss the first day of data\n",
    "## as the \"T\" in the Hive format isn't in the timestamps in mediawiki_history. And you probably get\n",
    "## an extra day of data at the end.\n",
    "\n",
    "user_registrations = spark.run(\n",
    "    user_registrations_query.format(\n",
    "        snapshot = mwh_snapshot,\n",
    "        wiki_list = ','.join(['\"{}\"'.format(w) for w in wikis]),\n",
    "        known_user_id_expression = make_known_users_sql(known_users, 'wiki_db', 'user_id'),\n",
    "        exp_start_timestamp = exp_start_ts.strftime('%Y-%m-%d %H:%M:%S'),\n",
    "        exp_end_timestamp = exp_end_ts.strftime('%Y-%m-%d %H:%M:%S')\n",
    "    )\n",
    ")"
   ]
  },
  {
   "cell_type": "code",
   "execution_count": 7,
   "id": "323c56da",
   "metadata": {},
   "outputs": [
    {
     "data": {
      "text/plain": [
       "'2021-05-01 00:00:04.0'"
      ]
     },
     "execution_count": 7,
     "metadata": {},
     "output_type": "execute_result"
    }
   ],
   "source": [
    "## verify first registration in the dataset\n",
    "user_registrations['user_registration_timestamp'].min()"
   ]
  },
  {
   "cell_type": "code",
   "execution_count": 8,
   "id": "866dbdb9",
   "metadata": {},
   "outputs": [
    {
     "data": {
      "text/plain": [
       "'2021-06-30 23:59:35.0'"
      ]
     },
     "execution_count": 8,
     "metadata": {},
     "output_type": "execute_result"
    }
   ],
   "source": [
    "## verify last registration in the dataset\n",
    "user_registrations['user_registration_timestamp'].max()"
   ]
  },
  {
   "cell_type": "markdown",
   "id": "33c7d1ad",
   "metadata": {},
   "source": [
    "Those timestamps fit our requirements."
   ]
  },
  {
   "cell_type": "markdown",
   "id": "68ae0f2f",
   "metadata": {},
   "source": [
    "## Get mobile/desktop and API data\n",
    "\n",
    "This enables us to identify differences between mobile/desktop registrations. We also filter out API registrations as those are almost always mobile apps."
   ]
  },
  {
   "cell_type": "code",
   "execution_count": 9,
   "id": "15bf7824",
   "metadata": {},
   "outputs": [],
   "source": [
    "## Get all self-created registrations from ServerSideAccountCreation\n",
    "\n",
    "ssac_reg_query = '''\n",
    "SELECT wiki AS wiki_db, event.userid AS user_id,\n",
    "       CAST(event.displaymobile AS INT) AS reg_on_mobile,\n",
    "       event.isapi\n",
    "FROM event_sanitized.serversideaccountcreation\n",
    "WHERE year = 2021\n",
    "AND month BETWEEN 4 AND 7\n",
    "AND wiki IN ({wiki_list})\n",
    "AND event.isselfmade = true\n",
    "'''"
   ]
  },
  {
   "cell_type": "code",
   "execution_count": 10,
   "id": "3d55d806",
   "metadata": {},
   "outputs": [
    {
     "name": "stderr",
     "output_type": "stream",
     "text": [
      "PySpark executors will use /usr/lib/anaconda-wmf/bin/python3.\n"
     ]
    }
   ],
   "source": [
    "ssac_reg_data = spark.run(ssac_reg_query.format(\n",
    "    wiki_list = ','.join(['\"{}\"'.format(w) for w in wikis])\n",
    "))"
   ]
  },
  {
   "cell_type": "code",
   "execution_count": 11,
   "id": "1b74a71b",
   "metadata": {},
   "outputs": [
    {
     "data": {
      "text/html": [
       "<div>\n",
       "<style scoped>\n",
       "    .dataframe tbody tr th:only-of-type {\n",
       "        vertical-align: middle;\n",
       "    }\n",
       "\n",
       "    .dataframe tbody tr th {\n",
       "        vertical-align: top;\n",
       "    }\n",
       "\n",
       "    .dataframe thead th {\n",
       "        text-align: right;\n",
       "    }\n",
       "</style>\n",
       "<table border=\"1\" class=\"dataframe\">\n",
       "  <thead>\n",
       "    <tr style=\"text-align: right;\">\n",
       "      <th></th>\n",
       "      <th>user_id</th>\n",
       "    </tr>\n",
       "    <tr>\n",
       "      <th>wiki_db</th>\n",
       "      <th></th>\n",
       "    </tr>\n",
       "  </thead>\n",
       "  <tbody>\n",
       "    <tr>\n",
       "      <th>eswiki</th>\n",
       "      <td>41242</td>\n",
       "    </tr>\n",
       "    <tr>\n",
       "      <th>ptwiki</th>\n",
       "      <td>21467</td>\n",
       "    </tr>\n",
       "  </tbody>\n",
       "</table>\n",
       "</div>"
      ],
      "text/plain": [
       "         user_id\n",
       "wiki_db         \n",
       "eswiki     41242\n",
       "ptwiki     21467"
      ]
     },
     "execution_count": 11,
     "metadata": {},
     "output_type": "execute_result"
    }
   ],
   "source": [
    "## What's the number of registrations?\n",
    "\n",
    "user_registrations.groupby('wiki_db').agg({'user_id' : 'size'})"
   ]
  },
  {
   "cell_type": "code",
   "execution_count": 12,
   "id": "93833520",
   "metadata": {},
   "outputs": [
    {
     "data": {
      "text/html": [
       "<div>\n",
       "<style scoped>\n",
       "    .dataframe tbody tr th:only-of-type {\n",
       "        vertical-align: middle;\n",
       "    }\n",
       "\n",
       "    .dataframe tbody tr th {\n",
       "        vertical-align: top;\n",
       "    }\n",
       "\n",
       "    .dataframe thead th {\n",
       "        text-align: right;\n",
       "    }\n",
       "</style>\n",
       "<table border=\"1\" class=\"dataframe\">\n",
       "  <thead>\n",
       "    <tr style=\"text-align: right;\">\n",
       "      <th></th>\n",
       "      <th>user_id</th>\n",
       "    </tr>\n",
       "    <tr>\n",
       "      <th>wiki_db</th>\n",
       "      <th></th>\n",
       "    </tr>\n",
       "  </thead>\n",
       "  <tbody>\n",
       "    <tr>\n",
       "      <th>eswiki</th>\n",
       "      <td>78752</td>\n",
       "    </tr>\n",
       "    <tr>\n",
       "      <th>ptwiki</th>\n",
       "      <td>43832</td>\n",
       "    </tr>\n",
       "  </tbody>\n",
       "</table>\n",
       "</div>"
      ],
      "text/plain": [
       "         user_id\n",
       "wiki_db         \n",
       "eswiki     78752\n",
       "ptwiki     43832"
      ]
     },
     "execution_count": 12,
     "metadata": {},
     "output_type": "execute_result"
    }
   ],
   "source": [
    "ssac_reg_data.groupby('wiki_db').agg({'user_id' : 'size'})"
   ]
  },
  {
   "cell_type": "code",
   "execution_count": 13,
   "id": "37adf692",
   "metadata": {},
   "outputs": [],
   "source": [
    "## Join with SSAC data\n",
    "\n",
    "all_users = user_registrations.merge(ssac_reg_data, how = 'left',\n",
    "                                    on = ['wiki_db', 'user_id'])"
   ]
  },
  {
   "cell_type": "code",
   "execution_count": 14,
   "id": "c79e7043",
   "metadata": {},
   "outputs": [
    {
     "data": {
      "text/html": [
       "<div>\n",
       "<style scoped>\n",
       "    .dataframe tbody tr th:only-of-type {\n",
       "        vertical-align: middle;\n",
       "    }\n",
       "\n",
       "    .dataframe tbody tr th {\n",
       "        vertical-align: top;\n",
       "    }\n",
       "\n",
       "    .dataframe thead th {\n",
       "        text-align: right;\n",
       "    }\n",
       "</style>\n",
       "<table border=\"1\" class=\"dataframe\">\n",
       "  <thead>\n",
       "    <tr style=\"text-align: right;\">\n",
       "      <th></th>\n",
       "      <th>user_id</th>\n",
       "    </tr>\n",
       "    <tr>\n",
       "      <th>wiki_db</th>\n",
       "      <th></th>\n",
       "    </tr>\n",
       "  </thead>\n",
       "  <tbody>\n",
       "    <tr>\n",
       "      <th>eswiki</th>\n",
       "      <td>1</td>\n",
       "    </tr>\n",
       "  </tbody>\n",
       "</table>\n",
       "</div>"
      ],
      "text/plain": [
       "         user_id\n",
       "wiki_db         \n",
       "eswiki         1"
      ]
     },
     "execution_count": 14,
     "metadata": {},
     "output_type": "execute_result"
    }
   ],
   "source": [
    "## Did we lose anyone?\n",
    "\n",
    "all_users.loc[all_users['reg_on_mobile'].isna()].groupby('wiki_db').agg({'user_id' : 'size'})"
   ]
  },
  {
   "cell_type": "markdown",
   "id": "8996fbd1",
   "metadata": {},
   "source": [
    "There's only a single user that we don't appear to have registration data for, so that means that we're good to go. Yay!\n",
    "\n",
    "We remove users that have `isapi = True`, because those are most likely app registrations."
   ]
  },
  {
   "cell_type": "code",
   "execution_count": 15,
   "id": "dbb34673",
   "metadata": {},
   "outputs": [],
   "source": [
    "all_users = all_users.loc[~(all_users['isapi'] == True)]"
   ]
  },
  {
   "cell_type": "code",
   "execution_count": 16,
   "id": "c6993d6e",
   "metadata": {},
   "outputs": [],
   "source": [
    "## Drop the isapi columns\n",
    "\n",
    "all_users = all_users.drop(columns = ['isapi'])"
   ]
  },
  {
   "cell_type": "markdown",
   "id": "c01081d1",
   "metadata": {},
   "source": [
    "## Get treatment/control assignments\n",
    "\n",
    "This involves two operations.\n",
    "\n",
    "1. Get all users who have the Homepage turned on in their preferences.\n",
    "2. Get the variant setting for all users.\n",
    "\n",
    "Users who don't have the Homepage turned on are candidates for the control group, and likewise for the experiment group. Secondary, users are randomly assigned to variants, which we'll use later in the analysis."
   ]
  },
  {
   "cell_type": "code",
   "execution_count": 17,
   "id": "5f0f6048",
   "metadata": {},
   "outputs": [],
   "source": [
    "def get_prop_settings(wiki, prop, col_name, cast_type, users=None):\n",
    "    '''\n",
    "    Query and return a `pandas.DataFrame` with columns `wiki` and `user_id` of all users who have\n",
    "    the given property turned on in their preferences for that given wiki.\n",
    "    \n",
    "    :param wiki: database code of the wiki we're querying\n",
    "    :type wiki: str\n",
    "    \n",
    "    :param prop: the user preference we're querying for\n",
    "    :type prop: str\n",
    "    \n",
    "    :param col_name: name that the column with preference value should have in the\n",
    "                     resulting DataFrame (e.g. \"is_treatment\")\n",
    "    :type col_name: str\n",
    "    \n",
    "    :param cast_type: SQL type to cast the property to (in the database this is a BLOB)\n",
    "    :type cast_type: str\n",
    "    \n",
    "    :param users: user IDs of the users we are interested in. This is optional.\n",
    "    :type users: list\n",
    "    '''\n",
    "    \n",
    "    prop_query = '''\n",
    "    SELECT \"{wiki}\" AS wiki, up_user AS user_id,\n",
    "           CAST(up_value AS {cast_type}) AS {col_name}\n",
    "    FROM user_properties\n",
    "    WHERE up_property = \"{prop}\"\n",
    "    '''.format(wiki = wiki, prop = prop, cast_type = cast_type, col_name = col_name)\n",
    "    \n",
    "    if users is not None:\n",
    "        prop_query += '''\n",
    "        AND up_user IN ({})\n",
    "        '''.format(','.join([str(uid) for uid in users]))\n",
    "        \n",
    "    return(mariadb.run(prop_query, wiki))"
   ]
  },
  {
   "cell_type": "code",
   "execution_count": 18,
   "id": "6e66eaea",
   "metadata": {},
   "outputs": [],
   "source": [
    "## Get treatment/control assignments from the MW databases\n",
    "\n",
    "hp_prefs = pd.concat(\n",
    "    [get_prop_settings(wiki,\n",
    "                       'growthexperiments-homepage-enable',\n",
    "                       'hp_enabled',\n",
    "                       'UNSIGNED INTEGER') for wiki in wikis]\n",
    ")"
   ]
  },
  {
   "cell_type": "code",
   "execution_count": 19,
   "id": "26d8a6c0",
   "metadata": {},
   "outputs": [],
   "source": [
    "all_users = all_users.merge(hp_prefs, how = 'left',\n",
    "                            left_on = ['wiki_db', 'user_id'],\n",
    "                            right_on = ['wiki', 'user_id']).fillna(0)"
   ]
  },
  {
   "cell_type": "code",
   "execution_count": 20,
   "id": "f15e88bb",
   "metadata": {},
   "outputs": [
    {
     "data": {
      "text/html": [
       "<div>\n",
       "<style scoped>\n",
       "    .dataframe tbody tr th:only-of-type {\n",
       "        vertical-align: middle;\n",
       "    }\n",
       "\n",
       "    .dataframe tbody tr th {\n",
       "        vertical-align: top;\n",
       "    }\n",
       "\n",
       "    .dataframe thead th {\n",
       "        text-align: right;\n",
       "    }\n",
       "</style>\n",
       "<table border=\"1\" class=\"dataframe\">\n",
       "  <thead>\n",
       "    <tr style=\"text-align: right;\">\n",
       "      <th></th>\n",
       "      <th></th>\n",
       "      <th>n_users</th>\n",
       "      <th>perc</th>\n",
       "    </tr>\n",
       "    <tr>\n",
       "      <th>wiki_db</th>\n",
       "      <th>hp_enabled</th>\n",
       "      <th></th>\n",
       "      <th></th>\n",
       "    </tr>\n",
       "  </thead>\n",
       "  <tbody>\n",
       "    <tr>\n",
       "      <th rowspan=\"2\" valign=\"top\">eswiki</th>\n",
       "      <th>0.0</th>\n",
       "      <td>8996</td>\n",
       "      <td>23.547889</td>\n",
       "    </tr>\n",
       "    <tr>\n",
       "      <th>1.0</th>\n",
       "      <td>29207</td>\n",
       "      <td>76.452111</td>\n",
       "    </tr>\n",
       "    <tr>\n",
       "      <th rowspan=\"2\" valign=\"top\">ptwiki</th>\n",
       "      <th>0.0</th>\n",
       "      <td>4759</td>\n",
       "      <td>23.658961</td>\n",
       "    </tr>\n",
       "    <tr>\n",
       "      <th>1.0</th>\n",
       "      <td>15356</td>\n",
       "      <td>76.341039</td>\n",
       "    </tr>\n",
       "  </tbody>\n",
       "</table>\n",
       "</div>"
      ],
      "text/plain": [
       "                    n_users       perc\n",
       "wiki_db hp_enabled                    \n",
       "eswiki  0.0            8996  23.547889\n",
       "        1.0           29207  76.452111\n",
       "ptwiki  0.0            4759  23.658961\n",
       "        1.0           15356  76.341039"
      ]
     },
     "execution_count": 20,
     "metadata": {},
     "output_type": "execute_result"
    }
   ],
   "source": [
    "all_users_agg = (all_users.groupby(['wiki_db', 'hp_enabled'])\n",
    "                 .agg({'user_id': 'count'})\n",
    "                 .rename(columns = {'user_id' : 'n_users'}))\n",
    "all_users_agg['perc'] = (100.0 * all_users_agg['n_users'] / \n",
    "                        all_users_agg.groupby('wiki_db')['n_users'].transform('sum'))\n",
    "all_users_agg"
   ]
  },
  {
   "cell_type": "markdown",
   "id": "94e9e1ad",
   "metadata": {},
   "source": [
    "This is just routine, the random assignment hasn't failed in any of our experiments so far. From the percentages above it's clear that it continues to work, but the proportions are off by about 3%. We're expecting an 80/20 split. I'll investigate that.\n",
    "\n",
    "Said investigation found that [T285996](https://phabricator.wikimedia.org/T285996) caused the randomization to be switched around. Registrations in June prior to that bug get the right proportions assigned."
   ]
  },
  {
   "cell_type": "code",
   "execution_count": 21,
   "id": "e7269c36",
   "metadata": {},
   "outputs": [],
   "source": [
    "## Get variant settings from the MW database\n",
    "\n",
    "variant_prefs = pd.concat(\n",
    "    [get_prop_settings(wiki,\n",
    "                       'growthexperiments-homepage-variant',\n",
    "                       'hp_variant',\n",
    "                       'CHAR CHARACTER SET utf8') for wiki in wikis]\n",
    ")"
   ]
  },
  {
   "cell_type": "raw",
   "id": "a1bc4415",
   "metadata": {},
   "source": [
    "## Dropping the user name column, it's no longer needed.\n",
    "all_users.drop('hp_variant', axis = 'columns', inplace = True)"
   ]
  },
  {
   "cell_type": "code",
   "execution_count": 22,
   "id": "611fa8a3",
   "metadata": {},
   "outputs": [],
   "source": [
    "all_users = all_users.merge(variant_prefs, how = 'left',\n",
    "                           left_on = ['wiki_db', 'user_id'],\n",
    "                           right_on = ['wiki', 'user_id']).fillna(0)"
   ]
  },
  {
   "cell_type": "code",
   "execution_count": 23,
   "id": "d15dda12",
   "metadata": {},
   "outputs": [
    {
     "data": {
      "text/html": [
       "<div>\n",
       "<style scoped>\n",
       "    .dataframe tbody tr th:only-of-type {\n",
       "        vertical-align: middle;\n",
       "    }\n",
       "\n",
       "    .dataframe tbody tr th {\n",
       "        vertical-align: top;\n",
       "    }\n",
       "\n",
       "    .dataframe thead th {\n",
       "        text-align: right;\n",
       "    }\n",
       "</style>\n",
       "<table border=\"1\" class=\"dataframe\">\n",
       "  <thead>\n",
       "    <tr style=\"text-align: right;\">\n",
       "      <th></th>\n",
       "      <th></th>\n",
       "      <th>user_id</th>\n",
       "    </tr>\n",
       "    <tr>\n",
       "      <th>hp_enabled</th>\n",
       "      <th>hp_variant</th>\n",
       "      <th></th>\n",
       "    </tr>\n",
       "  </thead>\n",
       "  <tbody>\n",
       "    <tr>\n",
       "      <th rowspan=\"2\" valign=\"top\">0.0</th>\n",
       "      <th>0</th>\n",
       "      <td>13736</td>\n",
       "    </tr>\n",
       "    <tr>\n",
       "      <th>control</th>\n",
       "      <td>19</td>\n",
       "    </tr>\n",
       "    <tr>\n",
       "      <th rowspan=\"3\" valign=\"top\">1.0</th>\n",
       "      <th>0</th>\n",
       "      <td>33</td>\n",
       "    </tr>\n",
       "    <tr>\n",
       "      <th>control</th>\n",
       "      <td>42138</td>\n",
       "    </tr>\n",
       "    <tr>\n",
       "      <th>null</th>\n",
       "      <td>2392</td>\n",
       "    </tr>\n",
       "  </tbody>\n",
       "</table>\n",
       "</div>"
      ],
      "text/plain": [
       "                       user_id\n",
       "hp_enabled hp_variant         \n",
       "0.0        0             13736\n",
       "           control          19\n",
       "1.0        0                33\n",
       "           control       42138\n",
       "           null           2392"
      ]
     },
     "execution_count": 23,
     "metadata": {},
     "output_type": "execute_result"
    }
   ],
   "source": [
    "all_users.groupby(['hp_enabled', 'hp_variant']).agg({'user_id': 'count'})"
   ]
  },
  {
   "cell_type": "markdown",
   "id": "68d01d12",
   "metadata": {},
   "source": [
    "We currently don't have any variant tests running and Add a Link was deployed in May. I'm thinking that's why everyone has the \"control\" variant assignment here. Looks like 19 users turned the Homepage off, and 33 turned it on. We'll exclude those from the analysis and keep everyone else."
   ]
  },
  {
   "cell_type": "code",
   "execution_count": null,
   "id": "e919e758",
   "metadata": {},
   "outputs": [],
   "source": [
    "## Control group users cannot have a variant assigned\n",
    "all_users.loc[(all_users['hp_enabled'] == 0) &\n",
    "              (all_users['hp_variant'] == 'control')]"
   ]
  },
  {
   "cell_type": "code",
   "execution_count": null,
   "id": "69d67224",
   "metadata": {},
   "outputs": [],
   "source": [
    "## Homepage group users have to have a variant assigned\n",
    "all_users.loc[(all_users['hp_enabled'] == 1) &\n",
    "              (all_users['hp_variant'] == 0)]"
   ]
  },
  {
   "cell_type": "code",
   "execution_count": 26,
   "id": "d9f3ad7c",
   "metadata": {},
   "outputs": [],
   "source": [
    "all_users_valid = all_users.loc[\n",
    "    ((all_users['hp_enabled'] == 0) &\n",
    "     (all_users['hp_variant'] != 'control')) |\n",
    "    ((all_users['hp_enabled'] == 1) &\n",
    "     (all_users['hp_variant'] != 0))\n",
    "]"
   ]
  },
  {
   "cell_type": "code",
   "execution_count": 27,
   "id": "0730d9bf",
   "metadata": {},
   "outputs": [
    {
     "data": {
      "text/plain": [
       "58318"
      ]
     },
     "execution_count": 27,
     "metadata": {},
     "output_type": "execute_result"
    }
   ],
   "source": [
    "len(all_users)"
   ]
  },
  {
   "cell_type": "code",
   "execution_count": 28,
   "id": "37e10469",
   "metadata": {},
   "outputs": [
    {
     "data": {
      "text/plain": [
       "58266"
      ]
     },
     "execution_count": 28,
     "metadata": {},
     "output_type": "execute_result"
    }
   ],
   "source": [
    "len(all_users_valid)"
   ]
  },
  {
   "cell_type": "markdown",
   "id": "613a7640",
   "metadata": {},
   "source": [
    "We've removed 52 users, so those numbers make sense."
   ]
  },
  {
   "cell_type": "code",
   "execution_count": 29,
   "id": "1e522449",
   "metadata": {},
   "outputs": [],
   "source": [
    "all_users = all_users_valid.copy() # if we don't copy, we'll get warnings later."
   ]
  },
  {
   "cell_type": "markdown",
   "id": "0ef4d363",
   "metadata": {},
   "source": [
    "## Edit Data\n",
    "\n",
    "We create a temporary Spark dataframe to store our user data, then join that with MediaWiki history to aggregate edit data."
   ]
  },
  {
   "cell_type": "code",
   "execution_count": 30,
   "id": "03ea1c58",
   "metadata": {},
   "outputs": [],
   "source": [
    "## First we drop the `wiki_x` and `wiki_y` columns.\n",
    "all_users.drop(['wiki_x', 'wiki_y'], axis = 'columns', inplace = True)"
   ]
  },
  {
   "cell_type": "code",
   "execution_count": null,
   "id": "a60c2479",
   "metadata": {},
   "outputs": [],
   "source": [
    "all_users.head()"
   ]
  },
  {
   "cell_type": "code",
   "execution_count": 32,
   "id": "5bc79d58",
   "metadata": {},
   "outputs": [],
   "source": [
    "## Turn the two 0/1 columns into ints, as they should be, and force hp_variant to string.\n",
    "all_users['reg_on_mobile'] = all_users['reg_on_mobile'].astype(int)\n",
    "all_users['hp_enabled'] = all_users['hp_enabled'].astype(int)\n",
    "all_users['hp_variant'] = all_users['hp_variant'].astype(str)"
   ]
  },
  {
   "cell_type": "code",
   "execution_count": 33,
   "id": "cc993c08",
   "metadata": {},
   "outputs": [
    {
     "name": "stderr",
     "output_type": "stream",
     "text": [
      "PySpark executors will use /usr/lib/anaconda-wmf/bin/python3.\n"
     ]
    }
   ],
   "source": [
    "spark_session = spark.get_session()\n",
    "all_users_sdf = spark_session.createDataFrame(all_users)\n",
    "all_users_sdf.createGlobalTempView(\"growth_all_users_temp\")"
   ]
  },
  {
   "cell_type": "code",
   "execution_count": 34,
   "id": "e21c02c6",
   "metadata": {},
   "outputs": [],
   "source": [
    "edit_data_query = '''\n",
    "WITH edits AS (\n",
    "    SELECT wiki_db, event_user_id AS user_id,\n",
    "    -- ns 0 & 1 edits on the first day\n",
    "    SUM(IF(page_namespace IN (0, 1)\n",
    "        AND unix_timestamp(event_timestamp) - unix_timestamp(event_user_creation_timestamp) < 86400, 1, 0))\n",
    "        AS num_article_edits_24hrs,\n",
    "    -- ns 0 & 1 edits on the first day that were reverted\n",
    "    SUM(IF(page_namespace IN (0, 1) AND revision_is_identity_reverted = true AND revision_seconds_to_identity_revert < 60*60*48\n",
    "        AND unix_timestamp(event_timestamp) - unix_timestamp(event_user_creation_timestamp) < 86400, 1, 0))\n",
    "        AS num_article_reverts_24hrs,\n",
    "    --  other namespace edits on the first day\n",
    "    SUM(IF(page_namespace NOT IN (0, 1)\n",
    "        AND unix_timestamp(event_timestamp) - unix_timestamp(event_user_creation_timestamp) < 86400, 1, 0))\n",
    "        AS num_other_edits_24hrs,\n",
    "    -- other namespace reverts on the first day\n",
    "    SUM(IF(page_namespace NOT IN (0, 1) AND revision_is_identity_reverted = true AND revision_seconds_to_identity_revert < 60*60*48\n",
    "        AND unix_timestamp(event_timestamp) - unix_timestamp(event_user_creation_timestamp) < 86400, 1, 0))\n",
    "        AS num_other_reverts_24hrs,\n",
    "    -- ns 0 & 1 edits on days 1–15\n",
    "    SUM(IF(page_namespace IN (0, 1)\n",
    "        AND unix_timestamp(event_timestamp) - unix_timestamp(event_user_creation_timestamp) BETWEEN 86400 AND 15*86400, 1, 0))\n",
    "        AS num_article_edits_2w,\n",
    "    -- ns 0 & 1 edits on days 1–15 that were reverted\n",
    "    SUM(IF(page_namespace IN (0, 1) AND revision_is_identity_reverted = true AND revision_seconds_to_identity_revert < 60*60*48\n",
    "        AND unix_timestamp(event_timestamp) - unix_timestamp(event_user_creation_timestamp) BETWEEN 86400 AND 15*86400, 1, 0))\n",
    "        AS num_article_reverts_2w,\n",
    "    -- other namespace edits on days 1–15\n",
    "    SUM(IF(page_namespace NOT IN (0, 1)\n",
    "        AND unix_timestamp(event_timestamp) - unix_timestamp(event_user_creation_timestamp) BETWEEN 86400 AND 15*86400, 1, 0))\n",
    "        AS num_other_edits_2w,\n",
    "    -- other namespace reverts on days 1–15\n",
    "    SUM(IF(page_namespace NOT IN (0, 1) AND revision_is_identity_reverted = true AND revision_seconds_to_identity_revert < 60*60*48\n",
    "        AND unix_timestamp(event_timestamp) - unix_timestamp(event_user_creation_timestamp) BETWEEN 86400 AND 15*86400, 1, 0))\n",
    "        AS num_other_reverts_2w\n",
    "    FROM wmf.mediawiki_history\n",
    "    WHERE snapshot = \"{snapshot}\"\n",
    "    AND event_entity = \"revision\"\n",
    "    AND event_type = \"create\"\n",
    "    AND wiki_db IN ({wiki_list})\n",
    "    AND event_timestamp > \"{start_date}\"\n",
    "    AND event_timestamp < \"{end_date}\"\n",
    "    GROUP BY wiki_db, event_user_id\n",
    "),\n",
    "users AS (\n",
    "    SELECT\n",
    "        wiki_db,\n",
    "        user_id,\n",
    "        user_registration_timestamp,\n",
    "        reg_on_mobile,\n",
    "        hp_enabled,\n",
    "        hp_variant\n",
    "    FROM global_temp.growth_all_users_temp\n",
    ")\n",
    "SELECT\n",
    "    users.wiki_db,\n",
    "    users.user_id,\n",
    "    users.user_registration_timestamp,\n",
    "    users.reg_on_mobile,\n",
    "    users.hp_enabled,\n",
    "    users.hp_variant,\n",
    "    COALESCE(num_article_edits_24hrs, 0) AS num_article_edits_24hrs,\n",
    "    COALESCE(num_article_reverts_24hrs, 0) AS num_article_reverts_24hrs,\n",
    "    COALESCE(num_other_edits_24hrs, 0) AS num_other_edits_24hrs,\n",
    "    COALESCE(num_other_reverts_24hrs, 0) AS num_other_reverts_24hrs,\n",
    "    COALESCE(num_article_edits_2w, 0) AS num_article_edits_2w,\n",
    "    COALESCE(num_article_reverts_2w, 0) AS num_article_reverts_2w,\n",
    "    COALESCE(num_other_edits_2w, 0) AS num_other_edits_2w,\n",
    "    COALESCE(num_other_reverts_2w, 0) AS num_other_reverts_2w\n",
    "FROM users\n",
    "LEFT JOIN edits\n",
    "ON users.wiki_db = edits.wiki_db\n",
    "AND users.user_id = edits.user_id\n",
    "'''"
   ]
  },
  {
   "cell_type": "code",
   "execution_count": 35,
   "id": "5cf1fc46",
   "metadata": {},
   "outputs": [
    {
     "name": "stderr",
     "output_type": "stream",
     "text": [
      "PySpark executors will use /usr/lib/anaconda-wmf/bin/python3.\n"
     ]
    }
   ],
   "source": [
    "## We set the start date to the experiment start date,\n",
    "## and the end date to the experiment end date + 15 days\n",
    "## to give users who registered within 15 days of the last\n",
    "## date the same amount of time to edit as everyone else.\n",
    "\n",
    "all_users_edit_data = spark.run(\n",
    "    edit_data_query.format(\n",
    "        snapshot = mwh_snapshot,\n",
    "        wiki_list = ','.join(['\"{}\"'.format(w) for w in wikis]),\n",
    "        start_date = exp_start_ts.date().isoformat(),\n",
    "        end_date = (exp_end_ts.date() + dt.timedelta(days = 15)).isoformat()\n",
    "    )\n",
    ")"
   ]
  },
  {
   "cell_type": "code",
   "execution_count": null,
   "id": "9f07d3e0",
   "metadata": {},
   "outputs": [],
   "source": [
    "all_users_edit_data.head()"
   ]
  },
  {
   "cell_type": "markdown",
   "id": "7aade6bf",
   "metadata": {},
   "source": [
    "## Define Activation\n",
    "\n",
    "We'll use the same definition of activation as we've used previously: editing within 24 hours of registration. We calculate this both across all namespaces, and specifically for the Article (and Article talk) namespace."
   ]
  },
  {
   "cell_type": "code",
   "execution_count": 37,
   "id": "47b4965a",
   "metadata": {},
   "outputs": [],
   "source": [
    "all_users_edit_data['is_activated'] = False\n",
    "all_users_edit_data.loc[\n",
    "    (all_users_edit_data['num_article_edits_24hrs'] > 0) |\n",
    "    (all_users_edit_data['num_other_edits_24hrs'] > 0), 'is_activated'\n",
    "] = True"
   ]
  },
  {
   "cell_type": "code",
   "execution_count": 38,
   "id": "0b28145c",
   "metadata": {},
   "outputs": [],
   "source": [
    "all_users_edit_data['is_activated_article'] = False\n",
    "all_users_edit_data.loc[\n",
    "    (all_users_edit_data['num_article_edits_24hrs'] > 0), 'is_activated_article'\n",
    "] = True"
   ]
  },
  {
   "cell_type": "code",
   "execution_count": 39,
   "id": "cce5f545",
   "metadata": {},
   "outputs": [],
   "source": [
    "all_users_edit_data['is_constr_activated'] = False\n",
    "all_users_edit_data.loc[\n",
    "    (all_users_edit_data['num_article_edits_24hrs'] - all_users_edit_data['num_article_reverts_24hrs'] > 0) |\n",
    "    (all_users_edit_data['num_other_edits_24hrs'] - all_users_edit_data['num_other_reverts_24hrs'] > 0),\n",
    "    'is_constr_activated'] = True"
   ]
  },
  {
   "cell_type": "code",
   "execution_count": 40,
   "id": "174620a5",
   "metadata": {},
   "outputs": [],
   "source": [
    "all_users_edit_data['is_constr_activated_article'] = False\n",
    "all_users_edit_data.loc[\n",
    "    (all_users_edit_data['num_article_edits_24hrs'] - all_users_edit_data['num_article_reverts_24hrs'] > 0),\n",
    "    'is_constr_activated_article'] = True"
   ]
  },
  {
   "cell_type": "code",
   "execution_count": null,
   "id": "32a15ec0",
   "metadata": {},
   "outputs": [],
   "source": [
    "all_users_edit_data.loc[all_users_edit_data['is_activated'] == True].head()"
   ]
  },
  {
   "cell_type": "markdown",
   "id": "10a99f8d",
   "metadata": {},
   "source": [
    "## Define Registration Month\n",
    "\n",
    "We also want to split by month because we're curious about trends across time.\n",
    "\n",
    "Since the registration timestamp is an ISO 8601 timestamp, we grab the first 7 characters of it (\"YYYY-MM\")."
   ]
  },
  {
   "cell_type": "code",
   "execution_count": 42,
   "id": "fe0e7693",
   "metadata": {},
   "outputs": [],
   "source": [
    "all_users_edit_data['reg_month'] = all_users_edit_data['user_registration_timestamp'].apply(\n",
    "    lambda x: x[:7]\n",
    ")"
   ]
  },
  {
   "cell_type": "markdown",
   "id": "30727c6f",
   "metadata": {},
   "source": [
    "## Aggregate\n",
    "\n",
    "We can now select users in the Homepage group, aggregate across wiki and activation, and calculate the percentages."
   ]
  },
  {
   "cell_type": "code",
   "execution_count": 48,
   "id": "25eb4ebd",
   "metadata": {},
   "outputs": [
    {
     "data": {
      "text/html": [
       "<div>\n",
       "<style scoped>\n",
       "    .dataframe tbody tr th:only-of-type {\n",
       "        vertical-align: middle;\n",
       "    }\n",
       "\n",
       "    .dataframe tbody tr th {\n",
       "        vertical-align: top;\n",
       "    }\n",
       "\n",
       "    .dataframe thead th {\n",
       "        text-align: right;\n",
       "    }\n",
       "</style>\n",
       "<table border=\"1\" class=\"dataframe\">\n",
       "  <thead>\n",
       "    <tr style=\"text-align: right;\">\n",
       "      <th></th>\n",
       "      <th>num_users</th>\n",
       "      <th>perc</th>\n",
       "    </tr>\n",
       "    <tr>\n",
       "      <th>is_constr_activated</th>\n",
       "      <th></th>\n",
       "      <th></th>\n",
       "    </tr>\n",
       "  </thead>\n",
       "  <tbody>\n",
       "    <tr>\n",
       "      <th>False</th>\n",
       "      <td>32507</td>\n",
       "      <td>73.0</td>\n",
       "    </tr>\n",
       "    <tr>\n",
       "      <th>True</th>\n",
       "      <td>12023</td>\n",
       "      <td>27.0</td>\n",
       "    </tr>\n",
       "  </tbody>\n",
       "</table>\n",
       "</div>"
      ],
      "text/plain": [
       "                     num_users  perc\n",
       "is_constr_activated                 \n",
       "False                    32507  73.0\n",
       "True                     12023  27.0"
      ]
     },
     "execution_count": 48,
     "metadata": {},
     "output_type": "execute_result"
    }
   ],
   "source": [
    "growth_activation_baseline_agg = (\n",
    "    all_users_edit_data.loc[all_users_edit_data['hp_enabled'] == 1]\n",
    "    .groupby('is_constr_activated')\n",
    "    .agg({'user_id' : 'count'})\n",
    "    .rename(columns = {'user_id' : 'num_users'}))\n",
    "growth_activation_baseline_agg['perc'] = (\n",
    "    100 * growth_activation_baseline_agg['num_users'] /\n",
    "    growth_activation_baseline_agg['num_users'].sum())\n",
    "growth_activation_baseline_agg.round(1)"
   ]
  },
  {
   "cell_type": "code",
   "execution_count": 46,
   "id": "3f05d7fb",
   "metadata": {},
   "outputs": [
    {
     "data": {
      "text/html": [
       "<div>\n",
       "<style scoped>\n",
       "    .dataframe tbody tr th:only-of-type {\n",
       "        vertical-align: middle;\n",
       "    }\n",
       "\n",
       "    .dataframe tbody tr th {\n",
       "        vertical-align: top;\n",
       "    }\n",
       "\n",
       "    .dataframe thead th {\n",
       "        text-align: right;\n",
       "    }\n",
       "</style>\n",
       "<table border=\"1\" class=\"dataframe\">\n",
       "  <thead>\n",
       "    <tr style=\"text-align: right;\">\n",
       "      <th></th>\n",
       "      <th></th>\n",
       "      <th>num_users</th>\n",
       "      <th>perc</th>\n",
       "    </tr>\n",
       "    <tr>\n",
       "      <th>wiki_db</th>\n",
       "      <th>is_constr_activated</th>\n",
       "      <th></th>\n",
       "      <th></th>\n",
       "    </tr>\n",
       "  </thead>\n",
       "  <tbody>\n",
       "    <tr>\n",
       "      <th rowspan=\"2\" valign=\"top\">eswiki</th>\n",
       "      <th>False</th>\n",
       "      <td>21986</td>\n",
       "      <td>75.3</td>\n",
       "    </tr>\n",
       "    <tr>\n",
       "      <th>True</th>\n",
       "      <td>7203</td>\n",
       "      <td>24.7</td>\n",
       "    </tr>\n",
       "    <tr>\n",
       "      <th rowspan=\"2\" valign=\"top\">ptwiki</th>\n",
       "      <th>False</th>\n",
       "      <td>10521</td>\n",
       "      <td>68.6</td>\n",
       "    </tr>\n",
       "    <tr>\n",
       "      <th>True</th>\n",
       "      <td>4820</td>\n",
       "      <td>31.4</td>\n",
       "    </tr>\n",
       "  </tbody>\n",
       "</table>\n",
       "</div>"
      ],
      "text/plain": [
       "                             num_users  perc\n",
       "wiki_db is_constr_activated                 \n",
       "eswiki  False                    21986  75.3\n",
       "        True                      7203  24.7\n",
       "ptwiki  False                    10521  68.6\n",
       "        True                      4820  31.4"
      ]
     },
     "execution_count": 46,
     "metadata": {},
     "output_type": "execute_result"
    }
   ],
   "source": [
    "growth_activation_baseline_agg_by_wiki = (\n",
    "    all_users_edit_data.loc[all_users_edit_data['hp_enabled'] == 1]\n",
    "    .groupby(['wiki_db', 'is_constr_activated'])\n",
    "    .agg({'user_id' : 'count'})\n",
    "    .rename(columns = {'user_id' : 'num_users'}))\n",
    "growth_activation_baseline_agg_by_wiki['perc'] = (\n",
    "    100 * growth_activation_baseline_agg_by_wiki['num_users'] /\n",
    "    growth_activation_baseline_agg_by_wiki.groupby(['wiki_db'])['num_users'].transform('sum'))\n",
    "growth_activation_baseline_agg_by_wiki.round(1)"
   ]
  },
  {
   "cell_type": "markdown",
   "id": "38315206",
   "metadata": {},
   "source": [
    "By month of registration:"
   ]
  },
  {
   "cell_type": "code",
   "execution_count": 44,
   "id": "cffcd184",
   "metadata": {},
   "outputs": [
    {
     "data": {
      "text/html": [
       "<div>\n",
       "<style scoped>\n",
       "    .dataframe tbody tr th:only-of-type {\n",
       "        vertical-align: middle;\n",
       "    }\n",
       "\n",
       "    .dataframe tbody tr th {\n",
       "        vertical-align: top;\n",
       "    }\n",
       "\n",
       "    .dataframe thead th {\n",
       "        text-align: right;\n",
       "    }\n",
       "</style>\n",
       "<table border=\"1\" class=\"dataframe\">\n",
       "  <thead>\n",
       "    <tr style=\"text-align: right;\">\n",
       "      <th></th>\n",
       "      <th></th>\n",
       "      <th></th>\n",
       "      <th>num_users</th>\n",
       "      <th>perc</th>\n",
       "    </tr>\n",
       "    <tr>\n",
       "      <th>wiki_db</th>\n",
       "      <th>reg_month</th>\n",
       "      <th>is_constr_activated</th>\n",
       "      <th></th>\n",
       "      <th></th>\n",
       "    </tr>\n",
       "  </thead>\n",
       "  <tbody>\n",
       "    <tr>\n",
       "      <th rowspan=\"4\" valign=\"top\">eswiki</th>\n",
       "      <th rowspan=\"2\" valign=\"top\">2021-05</th>\n",
       "      <th>False</th>\n",
       "      <td>12887</td>\n",
       "      <td>76.0</td>\n",
       "    </tr>\n",
       "    <tr>\n",
       "      <th>True</th>\n",
       "      <td>4078</td>\n",
       "      <td>24.0</td>\n",
       "    </tr>\n",
       "    <tr>\n",
       "      <th rowspan=\"2\" valign=\"top\">2021-06</th>\n",
       "      <th>False</th>\n",
       "      <td>9099</td>\n",
       "      <td>74.4</td>\n",
       "    </tr>\n",
       "    <tr>\n",
       "      <th>True</th>\n",
       "      <td>3125</td>\n",
       "      <td>25.6</td>\n",
       "    </tr>\n",
       "    <tr>\n",
       "      <th rowspan=\"4\" valign=\"top\">ptwiki</th>\n",
       "      <th rowspan=\"2\" valign=\"top\">2021-05</th>\n",
       "      <th>False</th>\n",
       "      <td>6001</td>\n",
       "      <td>69.1</td>\n",
       "    </tr>\n",
       "    <tr>\n",
       "      <th>True</th>\n",
       "      <td>2680</td>\n",
       "      <td>30.9</td>\n",
       "    </tr>\n",
       "    <tr>\n",
       "      <th rowspan=\"2\" valign=\"top\">2021-06</th>\n",
       "      <th>False</th>\n",
       "      <td>4520</td>\n",
       "      <td>67.9</td>\n",
       "    </tr>\n",
       "    <tr>\n",
       "      <th>True</th>\n",
       "      <td>2140</td>\n",
       "      <td>32.1</td>\n",
       "    </tr>\n",
       "  </tbody>\n",
       "</table>\n",
       "</div>"
      ],
      "text/plain": [
       "                                       num_users  perc\n",
       "wiki_db reg_month is_constr_activated                 \n",
       "eswiki  2021-05   False                    12887  76.0\n",
       "                  True                      4078  24.0\n",
       "        2021-06   False                     9099  74.4\n",
       "                  True                      3125  25.6\n",
       "ptwiki  2021-05   False                     6001  69.1\n",
       "                  True                      2680  30.9\n",
       "        2021-06   False                     4520  67.9\n",
       "                  True                      2140  32.1"
      ]
     },
     "execution_count": 44,
     "metadata": {},
     "output_type": "execute_result"
    }
   ],
   "source": [
    "growth_activation_baseline_monthly_agg = (\n",
    "    all_users_edit_data.loc[all_users_edit_data['hp_enabled'] == 1]\n",
    "    .groupby(['wiki_db', 'reg_month', 'is_constr_activated'])\n",
    "    .agg({'user_id' : 'count'})\n",
    "    .rename(columns = {'user_id' : 'num_users'}))\n",
    "growth_activation_baseline_monthly_agg['perc'] = (\n",
    "    100 * growth_activation_baseline_monthly_agg['num_users'] /\n",
    "    growth_activation_baseline_monthly_agg.groupby(['wiki_db', 'reg_month'])['num_users'].transform('sum'))\n",
    "growth_activation_baseline_monthly_agg.round(1)"
   ]
  },
  {
   "cell_type": "markdown",
   "id": "a1c17fed",
   "metadata": {},
   "source": [
    "I noticed the large drop in number of registrations between May and June for both wikis. Comparing it with the number of registrations from Wikistats, the drop is consistent. End of school year and vacation impacting the numbers again? I suspect so."
   ]
  }
 ],
 "metadata": {
  "kernelspec": {
   "display_name": "Python 3",
   "language": "python",
   "name": "python3"
  },
  "language_info": {
   "codemirror_mode": {
    "name": "ipython",
    "version": 3
   },
   "file_extension": ".py",
   "mimetype": "text/x-python",
   "name": "python",
   "nbconvert_exporter": "python",
   "pygments_lexer": "ipython3",
   "version": "3.7.6"
  }
 },
 "nbformat": 4,
 "nbformat_minor": 5
}
